{
 "cells": [
  {
   "attachments": {},
   "cell_type": "markdown",
   "metadata": {},
   "source": [
    "그리디 - 현재 상황에서 가장 좋은 것을 고르는 문제\n",
    "- 매순간 가장 좋아보이는 것을 선택하며, 현재의 선택이 나중에 미칠 영향에 대해서는 고려 안함\n",
    "- 사전에 외우고 있지 않아도 풀 수 있을 가능성이 높은 문제 유형\n",
    "- 대표 문제로는 '거스름돈' 문제가 있음"
   ]
  },
  {
   "attachments": {},
   "cell_type": "markdown",
   "metadata": {},
   "source": [
    "3-1 거스름돈\n",
    "\n",
    "당신은 음식점의 계산을 도와주는 점원이다. 카운터에는 거스름돈으로 사용할 500원, 100원, 50원, 10원짜리 동전이 무한히 존재함. 손님에게 거슬러줘야할 돈이 N원일떄, 거슬러줘야 할 동전의 최소 개수를 구하라. (단, 거슬러 줘야 할 돈 N은 항상 10의 배수) \n",
    "- 예를 들어 N은 1,260원임"
   ]
  },
  {
   "cell_type": "code",
   "execution_count": 21,
   "metadata": {},
   "outputs": [],
   "source": [
    "#내가 풀어본 방식\n",
    "\n",
    "def coin(coin):\n",
    "    \n",
    "    nn = 0\n",
    "    \n",
    "    # coin = coin\n",
    "    \n",
    "    money = [500, 100, 50, 10]\n",
    "    \n",
    "    for i in money:\n",
    "        n = coin // i # //는 몫\n",
    "        nn += n\n",
    "        coin -= i * n\n",
    "    \n",
    "    return nn\n",
    "    "
   ]
  },
  {
   "cell_type": "code",
   "execution_count": 22,
   "metadata": {},
   "outputs": [
    {
     "data": {
      "text/plain": [
       "6"
      ]
     },
     "execution_count": 22,
     "metadata": {},
     "output_type": "execute_result"
    }
   ],
   "source": [
    "coin(1260)"
   ]
  },
  {
   "cell_type": "code",
   "execution_count": 3,
   "metadata": {},
   "outputs": [
    {
     "name": "stdout",
     "output_type": "stream",
     "text": [
      "6\n"
     ]
    }
   ],
   "source": [
    "#책에서 나온 방식\n",
    "\n",
    "#%는 나머지\n",
    "#//는 몫\n",
    "\n",
    "\n",
    "n = 1260\n",
    "count = 0\n",
    "\n",
    "#큰단위 화폐부터 차례대로 확인\n",
    "coin_type = [500, 100, 50, 10]\n",
    "\n",
    "for coin in coin_type:\n",
    "    count += n//coin #해당 화폐로 거슬러줄 수 있는 동전의 갯수\n",
    "    n %= coin\n",
    "    \n",
    "print(count)"
   ]
  },
  {
   "attachments": {},
   "cell_type": "markdown",
   "metadata": {},
   "source": [
    "큰 수의 법칙\n",
    "- 다양한 수로 이루어진 배열이 있을때 주어진 수들을 M번 더하여 가장 큰 수를 만드는 법칙\n",
    "- 단, 배열의 특정한 인덱스에 해당하는 수가 연속해서 K번을 초과하여 더해질 수 없는 것이 특징\n",
    "- 예를 들어, 2,4,5,4,6으로 이루어진 배열이 있을때, N=5 / M=8 / K=3이라고 가정하자.\n",
    "- 특정한 인덱스의 수가 연속해서 3번까지만 더해질 수 있으믈 큰 수의 법칙에 따른 결과로 6+6+6+5+6+6+6+5 = 46이 됨"
   ]
  },
  {
   "cell_type": "code",
   "execution_count": 3,
   "metadata": {},
   "outputs": [
    {
     "name": "stdout",
     "output_type": "stream",
     "text": [
      "46\n"
     ]
    }
   ],
   "source": [
    "n, m, k = map(int, input().split())\n",
    "\n",
    "data = list(map(int, input().split()))\n",
    "\n",
    "data.sort()\n",
    "\n",
    "first = data[n-1]\n",
    "second = data[n-2]\n",
    "\n",
    "sum = 0\n",
    "\n",
    "while True:\n",
    "    for i in range(k):\n",
    "        if m == 0:\n",
    "            break\n",
    "        sum += first\n",
    "        m -= 1\n",
    "    if m == 0:\n",
    "        break\n",
    "    sum += second\n",
    "    m -= 1\n",
    "\n",
    "print(sum)"
   ]
  },
  {
   "cell_type": "code",
   "execution_count": 45,
   "metadata": {},
   "outputs": [
    {
     "name": "stdout",
     "output_type": "stream",
     "text": [
      "35\n"
     ]
    }
   ],
   "source": [
    "data.sort()\n",
    "\n",
    "first = data[n-1]\n",
    "second = data[n-2]\n",
    "\n",
    "result = 0\n",
    "\n",
    "while True:\n",
    "    for i in range(k): #가장 큰 수 k번 더하기\n",
    "        if m == 0: #m이 0이면 break\n",
    "            break\n",
    "        result += first #큰 수 더해주기\n",
    "        m -= 1 #횟수 차감\n",
    "    if m == 0:\n",
    "        break\n",
    "    result += second #K번 더해주고 두번째 큰 수 더하기\n",
    "    m -= 1\n",
    "    \n",
    "print(result)  "
   ]
  },
  {
   "attachments": {},
   "cell_type": "markdown",
   "metadata": {},
   "source": [
    "숫자 카드 게임\n",
    "1. 숫자가 쓰인 카드들이 N X M 형태로 놓여있다. 이때 N은 행, M은 열의 갯수를 의미한다.\n",
    "2. 먼저 뽑고자 하는 카드가 포함되어 있는 행을 선택한다.\n",
    "3. 그다음 선택된 행의 포함된 카드들 중 가장 숫자가 낮은 카드를 뽑는다.\n",
    "4. 따라서 처음에 카드를 골라낼 행을 선택할때, 이후에 해당 행에서 가장 숫자가 낮은 카드를 뽑을 것을 고려하여 최종적으로 가장 높은 숫자의 카드를 뽑을 수 있도록 전략을 세워야 한다."
   ]
  },
  {
   "cell_type": "code",
   "execution_count": 4,
   "metadata": {},
   "outputs": [
    {
     "name": "stdout",
     "output_type": "stream",
     "text": [
      "3\n"
     ]
    }
   ],
   "source": [
    "#행과 열을 input으로 받음 / 예시로 3x3을 입력\n",
    "n, m = map(int, input().split())\n",
    "\n",
    "result = 0\n",
    "\n",
    "#행부터 입력\n",
    "for i in range(n):\n",
    "    #입력받은 친구들이 자동으로 열이 되는 것임 / 3개의 숫자 입력\n",
    "    data = list(map(int, input().split()))\n",
    "    \n",
    "    #만약 처음으로 입력받은 숫자가 [3, 4, 5] 라면 min_val에는 셋중 가장 작은 3이 입력됨\n",
    "    min_val = min(data)\n",
    "    \n",
    "    #3과 0중 큰놈을 result에 저장\n",
    "    #이것을 n번마다 반복\n",
    "    result = max(result, min_val)\n",
    "    \n",
    "print(result)    \n"
   ]
  },
  {
   "cell_type": "code",
   "execution_count": 5,
   "metadata": {},
   "outputs": [
    {
     "name": "stdout",
     "output_type": "stream",
     "text": [
      "4\n"
     ]
    }
   ],
   "source": [
    "# 다른 버전\n",
    "\n",
    "n, m = map(int, input().split())\n",
    "\n",
    "result = 0\n",
    "\n",
    "for i in range(n):\n",
    "    data = list(map(int, input().split()))\n",
    "    \n",
    "    min_val = 1001\n",
    "    for a in data:\n",
    "        min_val = min(min_val, a)\n",
    "    result = max(result, min_val)\n",
    "        \n",
    "print(result)"
   ]
  },
  {
   "cell_type": "code",
   "execution_count": 51,
   "metadata": {},
   "outputs": [
    {
     "name": "stdout",
     "output_type": "stream",
     "text": [
      "[2, 4, 5]\n",
      "2\n",
      "2\n",
      "[4, 3, 1]\n",
      "1\n",
      "2\n",
      "[3, 4, 5]\n",
      "3\n",
      "3\n",
      "result 3\n"
     ]
    }
   ],
   "source": [
    "#n과 m을 공백으로 구분하여 입력받기 \n",
    "#몇 행 몇 열을 만들것인지..\n",
    "n, m = map(int, input().split())\n",
    "\n",
    "result = 0\n",
    "\n",
    "for i in range(n): #행\n",
    "    #한줄씩 입력받기(띄어쓰기로 구분)\n",
    "    data = list(map(int, input().split())) #열\n",
    "    print(data)\n",
    "    #현재 줄에서 가장 작은 수 찾기\n",
    "    min_value = min(data)\n",
    "    print(min_value)\n",
    "    #'가장 작은 수'가 있는것들 중에서 가장 큰 수 찾기\n",
    "    result = max(result, min_value)\n",
    "    print(result)\n",
    "    \n",
    "print('result',result)"
   ]
  },
  {
   "cell_type": "code",
   "execution_count": null,
   "metadata": {},
   "outputs": [],
   "source": []
  }
 ],
 "metadata": {
  "kernelspec": {
   "display_name": "base",
   "language": "python",
   "name": "python3"
  },
  "language_info": {
   "codemirror_mode": {
    "name": "ipython",
    "version": 3
   },
   "file_extension": ".py",
   "mimetype": "text/x-python",
   "name": "python",
   "nbconvert_exporter": "python",
   "pygments_lexer": "ipython3",
   "version": "3.9.13"
  },
  "orig_nbformat": 4,
  "vscode": {
   "interpreter": {
    "hash": "cb5285e2cda14a4805400a189e0eabfa02913f397385f5c221a1fc076b50ea98"
   }
  }
 },
 "nbformat": 4,
 "nbformat_minor": 2
}
