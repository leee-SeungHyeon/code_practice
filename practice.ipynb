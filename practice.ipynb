{
 "cells": [
  {
   "attachments": {},
   "cell_type": "markdown",
   "metadata": {},
   "source": [
    "# 그리디"
   ]
  },
  {
   "attachments": {},
   "cell_type": "markdown",
   "metadata": {},
   "source": [
    "그리디 - 현재 상황에서 가장 좋은 것을 고르는 문제\n",
    "- 매순간 가장 좋아보이는 것을 선택하며, 현재의 선택이 나중에 미칠 영향에 대해서는 고려 안함\n",
    "- 사전에 외우고 있지 않아도 풀 수 있을 가능성이 높은 문제 유형\n",
    "- 대표 문제로는 '거스름돈' 문제가 있음"
   ]
  },
  {
   "attachments": {},
   "cell_type": "markdown",
   "metadata": {},
   "source": [
    "3-1 거스름돈\n",
    "\n",
    "당신은 음식점의 계산을 도와주는 점원이다. 카운터에는 거스름돈으로 사용할 500원, 100원, 50원, 10원짜리 동전이 무한히 존재함. 손님에게 거슬러줘야할 돈이 N원일떄, 거슬러줘야 할 동전의 최소 개수를 구하라. (단, 거슬러 줘야 할 돈 N은 항상 10의 배수) \n",
    "- 예를 들어 N은 1,260원임"
   ]
  },
  {
   "cell_type": "code",
   "execution_count": 21,
   "metadata": {},
   "outputs": [],
   "source": [
    "#내가 풀어본 방식\n",
    "\n",
    "def coin(coin):\n",
    "    \n",
    "    nn = 0\n",
    "    \n",
    "    # coin = coin\n",
    "    \n",
    "    money = [500, 100, 50, 10]\n",
    "    \n",
    "    for i in money:\n",
    "        n = coin // i # //는 몫\n",
    "        nn += n\n",
    "        coin -= i * n\n",
    "    \n",
    "    return nn\n",
    "    "
   ]
  },
  {
   "cell_type": "code",
   "execution_count": 22,
   "metadata": {},
   "outputs": [
    {
     "data": {
      "text/plain": [
       "6"
      ]
     },
     "execution_count": 22,
     "metadata": {},
     "output_type": "execute_result"
    }
   ],
   "source": [
    "coin(1260)"
   ]
  },
  {
   "cell_type": "code",
   "execution_count": 3,
   "metadata": {},
   "outputs": [
    {
     "name": "stdout",
     "output_type": "stream",
     "text": [
      "6\n"
     ]
    }
   ],
   "source": [
    "#책에서 나온 방식\n",
    "\n",
    "#%는 나머지\n",
    "#//는 몫\n",
    "\n",
    "\n",
    "n = 1260\n",
    "count = 0\n",
    "\n",
    "#큰단위 화폐부터 차례대로 확인\n",
    "coin_type = [500, 100, 50, 10]\n",
    "\n",
    "for coin in coin_type:\n",
    "    count += n//coin #해당 화폐로 거슬러줄 수 있는 동전의 갯수\n",
    "    n %= coin\n",
    "    \n",
    "print(count)"
   ]
  },
  {
   "attachments": {},
   "cell_type": "markdown",
   "metadata": {},
   "source": [
    "큰 수의 법칙\n",
    "- 다양한 수로 이루어진 배열이 있을때 주어진 수들을 M번 더하여 가장 큰 수를 만드는 법칙\n",
    "- 단, 배열의 특정한 인덱스에 해당하는 수가 연속해서 K번을 초과하여 더해질 수 없는 것이 특징\n",
    "- 예를 들어, 2,4,5,4,6으로 이루어진 배열이 있을때, N=5 / M=8 / K=3이라고 가정하자.\n",
    "- 특정한 인덱스의 수가 연속해서 3번까지만 더해질 수 있으믈 큰 수의 법칙에 따른 결과로 6+6+6+5+6+6+6+5 = 46이 됨"
   ]
  },
  {
   "cell_type": "code",
   "execution_count": 3,
   "metadata": {},
   "outputs": [
    {
     "name": "stdout",
     "output_type": "stream",
     "text": [
      "46\n"
     ]
    }
   ],
   "source": [
    "n, m, k = map(int, input().split())\n",
    "\n",
    "data = list(map(int, input().split()))\n",
    "\n",
    "data.sort()\n",
    "\n",
    "first = data[n-1]\n",
    "second = data[n-2]\n",
    "\n",
    "sum = 0\n",
    "\n",
    "while True:\n",
    "    for i in range(k):\n",
    "        if m == 0:\n",
    "            break\n",
    "        sum += first\n",
    "        m -= 1\n",
    "    if m == 0:\n",
    "        break\n",
    "    sum += second\n",
    "    m -= 1\n",
    "\n",
    "print(sum)"
   ]
  },
  {
   "cell_type": "code",
   "execution_count": 45,
   "metadata": {},
   "outputs": [
    {
     "name": "stdout",
     "output_type": "stream",
     "text": [
      "35\n"
     ]
    }
   ],
   "source": [
    "data.sort()\n",
    "\n",
    "first = data[n-1]\n",
    "second = data[n-2]\n",
    "\n",
    "result = 0\n",
    "\n",
    "while True:\n",
    "    for i in range(k): #가장 큰 수 k번 더하기\n",
    "        if m == 0: #m이 0이면 break\n",
    "            break\n",
    "        result += first #큰 수 더해주기\n",
    "        m -= 1 #횟수 차감\n",
    "    if m == 0:\n",
    "        break\n",
    "    result += second #K번 더해주고 두번째 큰 수 더하기\n",
    "    m -= 1\n",
    "    \n",
    "print(result)  "
   ]
  },
  {
   "attachments": {},
   "cell_type": "markdown",
   "metadata": {},
   "source": [
    "숫자 카드 게임\n",
    "1. 숫자가 쓰인 카드들이 N X M 형태로 놓여있다. 이때 N은 행, M은 열의 갯수를 의미한다.\n",
    "2. 먼저 뽑고자 하는 카드가 포함되어 있는 행을 선택한다.\n",
    "3. 그다음 선택된 행의 포함된 카드들 중 가장 숫자가 낮은 카드를 뽑는다.\n",
    "4. 따라서 처음에 카드를 골라낼 행을 선택할때, 이후에 해당 행에서 가장 숫자가 낮은 카드를 뽑을 것을 고려하여 최종적으로 가장 높은 숫자의 카드를 뽑을 수 있도록 전략을 세워야 한다."
   ]
  },
  {
   "cell_type": "code",
   "execution_count": 4,
   "metadata": {},
   "outputs": [
    {
     "name": "stdout",
     "output_type": "stream",
     "text": [
      "3\n"
     ]
    }
   ],
   "source": [
    "#행과 열을 input으로 받음 / 예시로 3x3을 입력\n",
    "n, m = map(int, input().split())\n",
    "\n",
    "result = 0\n",
    "\n",
    "#행부터 입력\n",
    "for i in range(n):\n",
    "    #입력받은 친구들이 자동으로 열이 되는 것임 / 3개의 숫자 입력\n",
    "    data = list(map(int, input().split()))\n",
    "    \n",
    "    #만약 처음으로 입력받은 숫자가 [3, 4, 5] 라면 min_val에는 셋중 가장 작은 3이 입력됨\n",
    "    min_val = min(data)\n",
    "    \n",
    "    #3과 0중 큰놈을 result에 저장\n",
    "    #이것을 n번마다 반복\n",
    "    result = max(result, min_val)\n",
    "    \n",
    "print(result)    \n"
   ]
  },
  {
   "cell_type": "code",
   "execution_count": 5,
   "metadata": {},
   "outputs": [
    {
     "name": "stdout",
     "output_type": "stream",
     "text": [
      "4\n"
     ]
    }
   ],
   "source": [
    "# 다른 버전\n",
    "\n",
    "n, m = map(int, input().split())\n",
    "\n",
    "result = 0\n",
    "\n",
    "for i in range(n):\n",
    "    data = list(map(int, input().split()))\n",
    "    \n",
    "    min_val = 1001\n",
    "    for a in data:\n",
    "        min_val = min(min_val, a)\n",
    "    result = max(result, min_val)\n",
    "        \n",
    "print(result)"
   ]
  },
  {
   "cell_type": "code",
   "execution_count": 51,
   "metadata": {},
   "outputs": [
    {
     "name": "stdout",
     "output_type": "stream",
     "text": [
      "[2, 4, 5]\n",
      "2\n",
      "2\n",
      "[4, 3, 1]\n",
      "1\n",
      "2\n",
      "[3, 4, 5]\n",
      "3\n",
      "3\n",
      "result 3\n"
     ]
    }
   ],
   "source": [
    "#n과 m을 공백으로 구분하여 입력받기 \n",
    "#몇 행 몇 열을 만들것인지..\n",
    "n, m = map(int, input().split())\n",
    "\n",
    "result = 0\n",
    "\n",
    "for i in range(n): #행\n",
    "    #한줄씩 입력받기(띄어쓰기로 구분)\n",
    "    data = list(map(int, input().split())) #열\n",
    "    print(data)\n",
    "    #현재 줄에서 가장 작은 수 찾기\n",
    "    min_value = min(data)\n",
    "    print(min_value)\n",
    "    #'가장 작은 수'가 있는것들 중에서 가장 큰 수 찾기\n",
    "    result = max(result, min_value)\n",
    "    print(result)\n",
    "    \n",
    "print('result',result)"
   ]
  },
  {
   "attachments": {},
   "cell_type": "markdown",
   "metadata": {},
   "source": [
    "1이 될때까지\n",
    "- 어떠한 수 N이 1이 될 때까지 다음의 두 과정 중 하나를 반복적으로 선택하여 수행한다.\n",
    "단, 두번째 연산은 N이 K로 나누어떨어질때만 선택할 수 있다.\n",
    "1. N에서 1을 뺀다.\n",
    "2. N을 K로 나눈다.\n",
    "\n",
    "- 예를 들어 N=17, K=4라고 하자. 1번 수행후 N의 값은 16이 된다. 이후에 2번을 두번 수행하면 N은 1이된다. 전체 과정을 수행한 횟수는 3이되고 N을 1로 만드는 최소 횟수를 구하라."
   ]
  },
  {
   "cell_type": "code",
   "execution_count": 3,
   "metadata": {},
   "outputs": [
    {
     "name": "stdout",
     "output_type": "stream",
     "text": [
      "6\n"
     ]
    }
   ],
   "source": [
    "#내가 푼 방식\n",
    "n, k = map(int, input().split())\n",
    "\n",
    "c = 0\n",
    "\n",
    "while True:\n",
    "    if n%k != 0:\n",
    "        n -= 1\n",
    "        c += 1\n",
    "        if n == 1:\n",
    "            break\n",
    "    else:\n",
    "        n /= k\n",
    "        c += 1\n",
    "        if n ==1:\n",
    "            break\n",
    "\n",
    "print(c)"
   ]
  },
  {
   "cell_type": "code",
   "execution_count": 3,
   "metadata": {},
   "outputs": [
    {
     "name": "stdout",
     "output_type": "stream",
     "text": [
      "8\n"
     ]
    }
   ],
   "source": [
    "#책에서 말하는 방식\n",
    "#a//b는 몫이 나옴\n",
    "#a%b는 나머지\n",
    "\n",
    "n, k = map(int, input().split())\n",
    "\n",
    "result = 0\n",
    "\n",
    "#n이 k 이상이라면 k로 계속 나누기\n",
    "while n >= k:\n",
    "    #n이 k로 나누어 떨어지지 않는다면 계속 반복\n",
    "    while n % k != 0:\n",
    "        n -= 1\n",
    "        result += 1\n",
    "        \n",
    "    n //= k\n",
    "    result += 1\n",
    "\n",
    "#마지막으로 남은 수에 대하여 1 빼기\n",
    "while n>1:\n",
    "    n -= 1\n",
    "    result += 1\n",
    "\n",
    "print(result)"
   ]
  },
  {
   "cell_type": "code",
   "execution_count": 7,
   "metadata": {},
   "outputs": [
    {
     "name": "stdout",
     "output_type": "stream",
     "text": [
      "target 10\n",
      "result1 1\n",
      "n1 10\n",
      "result2 2\n",
      "n2 2\n",
      "target 0\n",
      "result1 4\n",
      "n1 0\n",
      "3\n"
     ]
    }
   ],
   "source": [
    "#n이 큰수 일때는 배수를 이용하는 것이 좋다\n",
    "\n",
    "n , k = map(int, input().split())\n",
    "\n",
    "result = 0\n",
    "\n",
    "while True:\n",
    "    #n == k로 나누어 떨어지는 수가 될때까지 1씩 빼기\n",
    "    target = (n//k) * k\n",
    "    print('target', target)\n",
    "    result += (n - target)\n",
    "    print('result1', result)\n",
    "    n = target\n",
    "    print('n1',n)\n",
    "    \n",
    "    #n이 k보다 작을때 반복문 탈출\n",
    "    \n",
    "    if n < k:\n",
    "        break\n",
    "    \n",
    "    #k로 나누기\n",
    "    result += 1\n",
    "    print('result2', result)\n",
    "    n //= k\n",
    "    print('n2',n)\n",
    "    \n",
    "#마지막으로 남은 수에 대하여 1씩 빼기\n",
    "result += (n-1)\n",
    "print(result)\n",
    "    "
   ]
  },
  {
   "attachments": {},
   "cell_type": "markdown",
   "metadata": {},
   "source": [
    "# 구현"
   ]
  },
  {
   "attachments": {},
   "cell_type": "markdown",
   "metadata": {},
   "source": [
    "상하좌우\n",
    "- N x N 크기의 좌표위에서 계획서대로 이동하며 최종 좌표를 출력하는 프로그램\n",
    "- 계획서에는 하나의 줄에 띄어쓰기를 기준으로 하여 L, R, U, D중 문자가 반복적으로 적혀 있음\n",
    "- L:왼쪽으로 한칸 이동\n",
    "- R:오른쪽으로 한칸 이동\n",
    "- U:위로 한칸 이동\n",
    "- D:밑으로 한칸 이동\n",
    "- 정사각형의 공간을 벗어나는 움직임은 무시됨\n",
    "\n",
    "- N = 5 / 계획서: R, R, R, U, D, D"
   ]
  },
  {
   "cell_type": "code",
   "execution_count": 12,
   "metadata": {},
   "outputs": [
    {
     "name": "stdout",
     "output_type": "stream",
     "text": [
      "5\n",
      "['R', 'R', 'R', 'U', 'D', 'D']\n",
      "3 4\n"
     ]
    }
   ],
   "source": [
    "#내가 푼 방식\n",
    "\n",
    "n = int(input())\n",
    "move = input().split()\n",
    "\n",
    "row_max = n\n",
    "col_max = n\n",
    "\n",
    "row_start = 1\n",
    "col_start = 1\n",
    "\n",
    "row = 1\n",
    "col = 1\n",
    "\n",
    "for i in move:\n",
    "    if i == 'R':\n",
    "        if col == col_max:\n",
    "            continue\n",
    "        else:\n",
    "            col += 1\n",
    "    elif i == 'D':\n",
    "        if row == row_max:\n",
    "            continue\n",
    "        else:\n",
    "            row += 1\n",
    "    elif i == 'U':\n",
    "        if row == row_start:\n",
    "            continue\n",
    "        else:\n",
    "            row -= 1\n",
    "    elif i == 'L':\n",
    "        if col == col_start:\n",
    "            continue\n",
    "        else:\n",
    "            col -= 1\n",
    "\n",
    "print(n)\n",
    "print(move)\n",
    "\n",
    "print(row, col)"
   ]
  },
  {
   "cell_type": "code",
   "execution_count": null,
   "metadata": {},
   "outputs": [],
   "source": [
    "#책에서 푼 방식\n",
    "\n",
    "n = int(input())\n",
    "x, y = 1,1\n",
    "\n",
    "plans = input().split()\n",
    "\n",
    "#L,R,U,D에 따른 이동 방향\n",
    "dx = [0,0,-1,1] #x축\n",
    "dy = [-1,1,0,0] #y축\n",
    "\n",
    "move_type = ['L','R','U','D']\n",
    "\n",
    "#이동 계획 확인\n",
    "for plan in plans:\n",
    "    for i in range(len(move_type)):\n",
    "        if plan == move_type[i]:\n",
    "            nx = x + dx[i]\n",
    "            ny = y + dy[i]\n",
    "            \n",
    "    #공간을 벗어나면 무시\n",
    "    if nx < 1 or ny < 1 or nx > n or ny > n:\n",
    "        continue\n",
    "    \n",
    "    #이동 수행\n",
    "    x, y = nx,ny\n",
    "    \n",
    "print(x,y)\n"
   ]
  },
  {
   "attachments": {},
   "cell_type": "markdown",
   "metadata": {},
   "source": [
    "## 시각\n",
    "- 정수 N이 입력되면 00시00분00초부터 N시59분59초까지의 모든 시각중에서 N이 하나라도 포함되는 모든 경우의 수를 구하는 프로그램을 작성하시오"
   ]
  },
  {
   "cell_type": "code",
   "execution_count": 18,
   "metadata": {},
   "outputs": [
    {
     "name": "stdout",
     "output_type": "stream",
     "text": [
      "4195\n"
     ]
    }
   ],
   "source": [
    "#내가 푼 방식\n",
    "#시분초에 5가 하나라도 포함되어 있으면 카운트\n",
    "\n",
    "n = int(input())\n",
    "\n",
    "count = 0\n",
    "\n",
    "for h in range(n + 1): #시\n",
    "    for m in range(60):#분\n",
    "        for s in range(60): #초\n",
    "            if h in [n] or m in [n] or s in [n]: #여기서 방법이 떠오르지 않음..\n",
    "                count += 1\n",
    "                \n",
    "print(count)\n",
    "\n",
    "#################해결하지 못했음"
   ]
  },
  {
   "cell_type": "code",
   "execution_count": 20,
   "metadata": {},
   "outputs": [
    {
     "name": "stdout",
     "output_type": "stream",
     "text": [
      "11475\n"
     ]
    }
   ],
   "source": [
    "#책에서 한 방식\n",
    "\n",
    "n = int(input())\n",
    "\n",
    "count = 0\n",
    "\n",
    "for h in range(n + 1): #시\n",
    "    for m in range(60):#분\n",
    "        for s in range(60): #초\n",
    "            if str(n) in str(h)+str(m)+str(s): #시각을 문자열로 바꾼 다음 비교함\n",
    "                                               #해당 시간이 포함되어 있으면 count\n",
    "                count += 1\n",
    "                \n",
    "print(count)"
   ]
  },
  {
   "attachments": {},
   "cell_type": "markdown",
   "metadata": {},
   "source": [
    "## 왕실의 나이트\n",
    "- 행복 왕국의 왕실 정원은 체스판과 같은 8x8좌표 평면이다. 왕실 정원의 특정한 한 칸에 나이트가 서 있다.\n",
    "- 나이트는 매우 충성스러운 신하로서 매일 무술을 연마한다.\n",
    "- 나이트는 말을 타고 있기 떄문에 이동을 할떄는 L자 형태로만 이동할 수 있으며 정원밖으로는 나갈 수 없다.\n",
    "- 나이트는 특정한 위치에서 다음과 같은 2가지 경우로 이동할 수 있다.\n",
    "1. 수평으로 두 칸 이동한 뒤에 수직으로 한 칸 이동하기\n",
    "2. 수직으로 두 칸 이동한 뒤에 수평으로 한 칸 이동하기"
   ]
  },
  {
   "cell_type": "code",
   "execution_count": null,
   "metadata": {},
   "outputs": [],
   "source": []
  }
 ],
 "metadata": {
  "kernelspec": {
   "display_name": "base",
   "language": "python",
   "name": "python3"
  },
  "language_info": {
   "codemirror_mode": {
    "name": "ipython",
    "version": 3
   },
   "file_extension": ".py",
   "mimetype": "text/x-python",
   "name": "python",
   "nbconvert_exporter": "python",
   "pygments_lexer": "ipython3",
   "version": "3.9.13"
  },
  "orig_nbformat": 4,
  "vscode": {
   "interpreter": {
    "hash": "cb5285e2cda14a4805400a189e0eabfa02913f397385f5c221a1fc076b50ea98"
   }
  }
 },
 "nbformat": 4,
 "nbformat_minor": 2
}
